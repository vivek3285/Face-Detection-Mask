{
 "cells": [
  {
   "cell_type": "code",
   "execution_count": 1,
   "metadata": {},
   "outputs": [],
   "source": [
    "import numpy as np\n",
    "import cv2"
   ]
  },
  {
   "cell_type": "code",
   "execution_count": 2,
   "metadata": {},
   "outputs": [],
   "source": [
    "with_mask = np.load('with1_mask.npy')\n",
    "without_mask = np.load('without1_mask.npy')"
   ]
  },
  {
   "cell_type": "code",
   "execution_count": 3,
   "metadata": {},
   "outputs": [
    {
     "data": {
      "text/plain": [
       "(200, 50, 50, 3)"
      ]
     },
     "execution_count": 3,
     "metadata": {},
     "output_type": "execute_result"
    }
   ],
   "source": [
    "with_mask.shape"
   ]
  },
  {
   "cell_type": "code",
   "execution_count": 4,
   "metadata": {},
   "outputs": [
    {
     "data": {
      "text/plain": [
       "(200, 50, 50, 3)"
      ]
     },
     "execution_count": 4,
     "metadata": {},
     "output_type": "execute_result"
    }
   ],
   "source": [
    "without_mask.shape"
   ]
  },
  {
   "cell_type": "code",
   "execution_count": 5,
   "metadata": {},
   "outputs": [],
   "source": [
    "with_mask =with_mask.reshape(200, 50 * 50 * 3)\n",
    "without_mask =without_mask.reshape(200, 50 * 50 * 3)"
   ]
  },
  {
   "cell_type": "code",
   "execution_count": 6,
   "metadata": {},
   "outputs": [
    {
     "data": {
      "text/plain": [
       "(200, 7500)"
      ]
     },
     "execution_count": 6,
     "metadata": {},
     "output_type": "execute_result"
    }
   ],
   "source": [
    "with_mask.shape"
   ]
  },
  {
   "cell_type": "code",
   "execution_count": 7,
   "metadata": {},
   "outputs": [
    {
     "data": {
      "text/plain": [
       "(200, 7500)"
      ]
     },
     "execution_count": 7,
     "metadata": {},
     "output_type": "execute_result"
    }
   ],
   "source": [
    "without_mask.shape"
   ]
  },
  {
   "cell_type": "code",
   "execution_count": 8,
   "metadata": {},
   "outputs": [],
   "source": [
    "x = np.r_[with_mask , without_mask]"
   ]
  },
  {
   "cell_type": "code",
   "execution_count": 9,
   "metadata": {},
   "outputs": [],
   "source": [
    "labels = np.zeros(x.shape[0])"
   ]
  },
  {
   "cell_type": "code",
   "execution_count": 10,
   "metadata": {},
   "outputs": [],
   "source": [
    "labels[200 :] = 1.0"
   ]
  },
  {
   "cell_type": "code",
   "execution_count": 11,
   "metadata": {},
   "outputs": [],
   "source": [
    "names = {0 : 'MASK', 1 : 'NO MASK'}"
   ]
  },
  {
   "cell_type": "code",
   "execution_count": 12,
   "metadata": {},
   "outputs": [],
   "source": [
    "from sklearn.svm import SVC\n",
    "from sklearn.metrics import accuracy_score"
   ]
  },
  {
   "cell_type": "code",
   "execution_count": 13,
   "metadata": {},
   "outputs": [],
   "source": [
    "from sklearn.model_selection import train_test_split"
   ]
  },
  {
   "cell_type": "code",
   "execution_count": 14,
   "metadata": {},
   "outputs": [],
   "source": [
    "x_train, x_test, y_train, y_test = train_test_split(x, labels, test_size = 0.25)"
   ]
  },
  {
   "cell_type": "code",
   "execution_count": 15,
   "metadata": {},
   "outputs": [
    {
     "data": {
      "text/plain": [
       "(300, 7500)"
      ]
     },
     "execution_count": 15,
     "metadata": {},
     "output_type": "execute_result"
    }
   ],
   "source": [
    "x_train.shape"
   ]
  },
  {
   "cell_type": "code",
   "execution_count": 16,
   "metadata": {},
   "outputs": [],
   "source": [
    "from sklearn.decomposition import PCA"
   ]
  },
  {
   "cell_type": "code",
   "execution_count": 17,
   "metadata": {},
   "outputs": [],
   "source": [
    "pca = PCA(n_components = 3)\n",
    "x_train = pca.fit_transform(x_train)"
   ]
  },
  {
   "cell_type": "code",
   "execution_count": 18,
   "metadata": {},
   "outputs": [
    {
     "data": {
      "text/plain": [
       "array([-2152.4457201 ,  2054.59707408,   -50.92614175])"
      ]
     },
     "execution_count": 18,
     "metadata": {},
     "output_type": "execute_result"
    }
   ],
   "source": [
    "x_train[0]"
   ]
  },
  {
   "cell_type": "code",
   "execution_count": 19,
   "metadata": {},
   "outputs": [
    {
     "data": {
      "text/plain": [
       "(300, 3)"
      ]
     },
     "execution_count": 19,
     "metadata": {},
     "output_type": "execute_result"
    }
   ],
   "source": [
    "x_train.shape"
   ]
  },
  {
   "cell_type": "code",
   "execution_count": 20,
   "metadata": {},
   "outputs": [],
   "source": [
    "x_train, x_test, y_train, y_test = train_test_split(x, labels, test_size = 0.25)"
   ]
  },
  {
   "cell_type": "code",
   "execution_count": 21,
   "metadata": {},
   "outputs": [
    {
     "data": {
      "text/plain": [
       "SVC(C=1.0, cache_size=200, class_weight=None, coef0=0.0,\n",
       "  decision_function_shape='ovr', degree=3, gamma='auto', kernel='rbf',\n",
       "  max_iter=-1, probability=False, random_state=None, shrinking=True,\n",
       "  tol=0.001, verbose=False)"
      ]
     },
     "execution_count": 21,
     "metadata": {},
     "output_type": "execute_result"
    }
   ],
   "source": [
    "svm = SVC()\n",
    "svm.fit(x_train, y_train)"
   ]
  },
  {
   "cell_type": "code",
   "execution_count": 22,
   "metadata": {},
   "outputs": [],
   "source": [
    "#x_test=pca.transform(x_test)\n",
    "y_pred=svm.predict(x_test)"
   ]
  },
  {
   "cell_type": "code",
   "execution_count": 23,
   "metadata": {},
   "outputs": [
    {
     "data": {
      "text/plain": [
       "0.51"
      ]
     },
     "execution_count": 23,
     "metadata": {},
     "output_type": "execute_result"
    }
   ],
   "source": [
    "accuracy_score(y_test, y_pred)"
   ]
  },
  {
   "cell_type": "code",
   "execution_count": 24,
   "metadata": {},
   "outputs": [
    {
     "name": "stdout",
     "output_type": "stream",
     "text": [
      "MASK\n",
      "MASK\n",
      "MASK\n",
      "MASK\n",
      "MASK\n",
      "MASK\n",
      "MASK\n",
      "MASK\n",
      "MASK\n",
      "MASK\n",
      "MASK\n",
      "MASK\n",
      "MASK\n",
      "MASK\n",
      "MASK\n",
      "MASK\n",
      "MASK\n",
      "MASK\n",
      "MASK\n",
      "MASK\n",
      "MASK\n",
      "MASK\n",
      "MASK\n",
      "MASK\n",
      "MASK\n",
      "MASK\n",
      "MASK\n",
      "MASK\n",
      "MASK\n",
      "MASK\n",
      "MASK\n",
      "MASK\n",
      "MASK\n",
      "MASK\n",
      "MASK\n",
      "MASK\n",
      "MASK\n",
      "MASK\n",
      "MASK\n",
      "MASK\n",
      "MASK\n",
      "MASK\n",
      "MASK\n",
      "MASK\n",
      "MASK\n",
      "MASK\n",
      "MASK\n",
      "MASK\n",
      "MASK\n",
      "MASK\n",
      "MASK\n",
      "MASK\n",
      "MASK\n",
      "MASK\n",
      "MASK\n",
      "MASK\n",
      "MASK\n",
      "MASK\n",
      "MASK\n",
      "MASK\n",
      "MASK\n",
      "MASK\n",
      "MASK\n",
      "MASK\n",
      "MASK\n",
      "MASK\n",
      "MASK\n",
      "MASK\n",
      "MASK\n",
      "MASK\n",
      "MASK\n",
      "MASK\n",
      "MASK\n",
      "MASK\n",
      "MASK\n",
      "MASK\n",
      "MASK\n",
      "MASK\n",
      "MASK\n",
      "MASK\n",
      "MASK\n",
      "MASK\n",
      "MASK\n",
      "MASK\n",
      "MASK\n",
      "MASK\n",
      "MASK\n",
      "MASK\n",
      "MASK\n",
      "MASK\n",
      "MASK\n",
      "MASK\n",
      "MASK\n",
      "MASK\n",
      "MASK\n",
      "MASK\n",
      "MASK\n",
      "MASK\n",
      "MASK\n",
      "MASK\n",
      "MASK\n",
      "MASK\n",
      "MASK\n",
      "MASK\n",
      "MASK\n",
      "MASK\n",
      "MASK\n",
      "MASK\n",
      "MASK\n",
      "MASK\n",
      "MASK\n",
      "MASK\n",
      "MASK\n",
      "MASK\n",
      "MASK\n",
      "MASK\n",
      "MASK\n",
      "MASK\n",
      "MASK\n",
      "MASK\n",
      "MASK\n",
      "MASK\n",
      "MASK\n",
      "MASK\n",
      "MASK\n",
      "MASK\n",
      "MASK\n",
      "MASK\n",
      "MASK\n",
      "MASK\n",
      "MASK\n",
      "MASK\n",
      "MASK\n",
      "MASK\n",
      "MASK\n",
      "MASK\n",
      "MASK\n",
      "MASK\n",
      "MASK\n",
      "MASK\n",
      "MASK\n",
      "MASK\n",
      "MASK\n",
      "MASK\n",
      "MASK\n",
      "MASK\n",
      "MASK\n",
      "MASK\n",
      "MASK\n",
      "MASK\n",
      "MASK\n",
      "MASK\n",
      "MASK\n",
      "MASK\n",
      "MASK\n",
      "MASK\n",
      "MASK\n",
      "MASK\n",
      "MASK\n",
      "MASK\n",
      "MASK\n",
      "MASK\n",
      "MASK\n",
      "MASK\n",
      "MASK\n",
      "MASK\n",
      "MASK\n",
      "MASK\n",
      "MASK\n",
      "MASK\n",
      "MASK\n",
      "MASK\n",
      "MASK\n",
      "MASK\n",
      "MASK\n",
      "MASK\n",
      "MASK\n",
      "MASK\n",
      "MASK\n",
      "MASK\n",
      "MASK\n",
      "MASK\n",
      "MASK\n",
      "MASK\n",
      "MASK\n",
      "MASK\n",
      "MASK\n",
      "MASK\n",
      "MASK\n",
      "MASK\n",
      "MASK\n",
      "MASK\n",
      "MASK\n",
      "MASK\n",
      "MASK\n",
      "MASK\n",
      "MASK\n",
      "MASK\n",
      "MASK\n",
      "MASK\n",
      "MASK\n",
      "MASK\n",
      "MASK\n",
      "MASK\n",
      "MASK\n",
      "MASK\n",
      "MASK\n",
      "MASK\n",
      "MASK\n",
      "MASK\n",
      "MASK\n",
      "MASK\n",
      "MASK\n",
      "MASK\n",
      "MASK\n",
      "MASK\n",
      "MASK\n",
      "MASK\n",
      "MASK\n",
      "MASK\n",
      "MASK\n",
      "MASK\n",
      "MASK\n",
      "MASK\n",
      "MASK\n",
      "MASK\n",
      "MASK\n",
      "MASK\n",
      "MASK\n",
      "MASK\n",
      "MASK\n",
      "MASK\n",
      "MASK\n",
      "MASK\n",
      "MASK\n",
      "MASK\n",
      "MASK\n",
      "MASK\n",
      "MASK\n",
      "MASK\n",
      "MASK\n",
      "MASK\n",
      "MASK\n",
      "MASK\n",
      "MASK\n",
      "MASK\n",
      "MASK\n",
      "MASK\n",
      "MASK\n",
      "MASK\n",
      "MASK\n",
      "MASK\n",
      "MASK\n",
      "MASK\n",
      "MASK\n",
      "MASK\n",
      "MASK\n",
      "MASK\n",
      "MASK\n",
      "MASK\n",
      "MASK\n",
      "MASK\n",
      "MASK\n"
     ]
    }
   ],
   "source": [
    "haar_data = cv2.CascadeClassifier('V:/mask/haarcascade_frontalface_default.xml')\n",
    "cap = cv2.VideoCapture(0)\n",
    "d=[]\n",
    "font = cv2.FONT_HERSHEY_COMPLEX\n",
    "while True:\n",
    "    flag, img = cap.read()\n",
    "    if flag :   \n",
    "        faces = haar_data.detectMultiScale(img)\n",
    "        for x,y,w,h in faces:\n",
    "            cv2.rectangle(img,(x,y),(x+w,y+h),(255,0,255),4)\n",
    "            face = img[y:y+h, x:x+w, :]\n",
    "            face = cv2.resize(face,(50,50))\n",
    "            face = face.reshape(1,-1)\n",
    "            pred = svm.predict(face)[0]\n",
    "            n = names[int(pred)]\n",
    "            cv2.putText(img,n,(x,y),font,1,(244,250,255),2)\n",
    "            print(n)\n",
    "        cv2.imshow('img',img)\n",
    "        if cv2.waitKey(2) == 27:\n",
    "            break\n",
    "            \n",
    "cap.release()\n",
    "cv2.destroyAllWindows()"
   ]
  },
  {
   "cell_type": "code",
   "execution_count": null,
   "metadata": {},
   "outputs": [],
   "source": []
  },
  {
   "cell_type": "code",
   "execution_count": null,
   "metadata": {},
   "outputs": [],
   "source": []
  }
 ],
 "metadata": {
  "kernelspec": {
   "display_name": "Python 3",
   "language": "python",
   "name": "python3"
  },
  "language_info": {
   "codemirror_mode": {
    "name": "ipython",
    "version": 3
   },
   "file_extension": ".py",
   "mimetype": "text/x-python",
   "name": "python",
   "nbconvert_exporter": "python",
   "pygments_lexer": "ipython3",
   "version": "3.6.5"
  }
 },
 "nbformat": 4,
 "nbformat_minor": 5
}
